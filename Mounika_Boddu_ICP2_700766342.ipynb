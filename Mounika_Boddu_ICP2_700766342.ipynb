{
  "nbformat": 4,
  "nbformat_minor": 0,
  "metadata": {
    "colab": {
      "provenance": [],
      "authorship_tag": "ABX9TyPAYyFS0Vx2o/t6Drwe0Qpw",
      "include_colab_link": true
    },
    "kernelspec": {
      "name": "python3",
      "display_name": "Python 3"
    },
    "language_info": {
      "name": "python"
    }
  },
  "cells": [
    {
      "cell_type": "markdown",
      "metadata": {
        "id": "view-in-github",
        "colab_type": "text"
      },
      "source": [
        "<a href=\"https://colab.research.google.com/github/MounikaBoddu1999/Neural_networks_coursework/blob/main/Mounika_Boddu_ICP2_700766342.ipynb\" target=\"_parent\"><img src=\"https://colab.research.google.com/assets/colab-badge.svg\" alt=\"Open In Colab\"/></a>"
      ]
    },
    {
      "cell_type": "code",
      "source": [
        "class Employee:\n",
        "    \"\"\"\n",
        "    Generic Employee class with name, family, salary, and department.\n",
        "    \"\"\"\n",
        "\n",
        "    # Class variable to count the number of Employees\n",
        "    employee_count = 0\n",
        "\n",
        "    def __init__(self, name, family, salary, department):\n",
        "        self.name = name\n",
        "        self.family = family\n",
        "        self.salary = salary\n",
        "        self.department = department\n",
        "        Employee.employee_count += 1\n",
        "\n",
        "    @staticmethod\n",
        "    def average_salary(employees):\n",
        "        \"\"\"\n",
        "        Function to calculate the average salary of the given employees.\n",
        "        \"\"\"\n",
        "        total_salary = sum(emp.salary for emp in employees)\n",
        "        return total_salary / Employee.employee_count if Employee.employee_count > 0 else 0\n",
        "\n",
        "\n",
        "class FulltimeEmployee(Employee):\n",
        "    \"\"\"\n",
        "    FulltimeEmployee is a subclass of Employee.\n",
        "    \"\"\"\n",
        "\n",
        "    def __init__(self, name, family, salary, department):\n",
        "        super().__init__(name, family, salary, department)\n",
        "\n",
        "\n",
        "def main():\n",
        "    employees = []\n",
        "\n",
        "    # Creating instances of FulltimeEmployee and Employee\n",
        "    fulltime_emp1 = FulltimeEmployee(\"Alice\", \"Smith\", 120000, \"Engineering\")\n",
        "    fulltime_emp2 = FulltimeEmployee(\"Bob\", \"Johnson\", 90000, \"Finance\")\n",
        "    emp1 = Employee(\"Charlie\", \"Brown\", 75000, \"Marketing\")\n",
        "    emp2 = Employee(\"Daisy\", \"Williams\", 85000, \"HR\")\n",
        "\n",
        "    # Adding employees to the list\n",
        "    employees.extend([fulltime_emp1, fulltime_emp2, emp1, emp2])\n",
        "\n",
        "    # Printing employee details and average salary\n",
        "    print(f\"Total number of employees: {Employee.employee_count}\")\n",
        "    print(f\"Average salary: ${Employee.average_salary(employees):.2f}\")\n",
        "\n",
        "    # Example of accessing attributes from an instance\n",
        "    for emp in employees:\n",
        "        print(f\"Employee: {emp.name}, Family: {emp.family}, Department: {emp.department}, Salary: ${emp.salary}\")\n",
        "\n",
        "\n",
        "if __name__ == \"__main__\":\n",
        "    main()\n"
      ],
      "metadata": {
        "colab": {
          "base_uri": "https://localhost:8080/"
        },
        "id": "SRQExN7COixD",
        "outputId": "030e24e4-79f9-42dc-bc18-8afff0381745"
      },
      "execution_count": 25,
      "outputs": [
        {
          "output_type": "stream",
          "name": "stdout",
          "text": [
            "Total number of employees: 4\n",
            "Average salary: $92500.00\n",
            "Employee: Alice, Family: Smith, Department: Engineering, Salary: $120000\n",
            "Employee: Bob, Family: Johnson, Department: Finance, Salary: $90000\n",
            "Employee: Charlie, Family: Brown, Department: Marketing, Salary: $75000\n",
            "Employee: Daisy, Family: Williams, Department: HR, Salary: $85000\n"
          ]
        }
      ]
    },
    {
      "cell_type": "code",
      "execution_count": 19,
      "metadata": {
        "colab": {
          "base_uri": "https://localhost:8080/"
        },
        "id": "4MKbvzPQEp2h",
        "outputId": "47c88f6c-a71c-4add-fbc5-b52152c6be8c"
      },
      "outputs": [
        {
          "output_type": "stream",
          "name": "stdout",
          "text": [
            "[[ 4.38077484  5.34896562 17.64119115  6.07887685  7.15282658]\n",
            " [14.76383432  9.56362884  2.87560452 10.17689909  1.75174032]\n",
            " [ 8.2644778  19.13705889  6.27431331  6.86361772  4.75509623]\n",
            " [10.7208136  14.89293003 10.70433221  1.50132677 11.96810278]]\n",
            "[[ 4.38077484  5.34896562  0.          6.07887685  7.15282658]\n",
            " [ 0.          9.56362884  2.87560452 10.17689909  1.75174032]\n",
            " [ 8.2644778   0.          6.27431331  6.86361772  4.75509623]\n",
            " [10.7208136   0.         10.70433221  1.50132677 11.96810278]]\n"
          ]
        }
      ],
      "source": [
        "import numpy as np\n",
        "\n",
        "#  a random vector of size 20 with floats in the range 1-20\n",
        "vector = np.random.uniform(1, 20, 20)\n",
        "\n",
        "# Reshape the array to 4 by 5\n",
        "vector_new = vector.reshape(4, 5)  # Changed 'random_vector' to 'vector'\n",
        "print(vector_new)\n",
        "\n",
        "# Replace the maximum value in each row with 0 (without using a for loop)\n",
        "vector_new[np.arange(vector_new.shape[0]), vector_new.argmax(axis=1)] = 0\n",
        "\n",
        "# Display the  array\n",
        "print(vector_new)\n"
      ]
    }
  ]
}